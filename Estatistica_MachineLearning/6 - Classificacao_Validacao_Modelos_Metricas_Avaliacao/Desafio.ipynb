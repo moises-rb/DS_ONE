{
  "cells": [
    {
      "cell_type": "markdown",
      "metadata": {
        "id": "view-in-github",
        "colab_type": "text"
      },
      "source": [
        "<a href=\"https://colab.research.google.com/github/moises-rb/DS_ONE/blob/main/Estatistica_MachineLearning/6%20-%20Classificacao_Validacao_Modelos_Metricas_Avaliacao/Desafio.ipynb\" target=\"_parent\"><img src=\"https://colab.research.google.com/assets/colab-badge.svg\" alt=\"Open In Colab\"/></a>"
      ]
    },
    {
      "cell_type": "markdown",
      "metadata": {
        "id": "_kwAaQ36gLQ1"
      },
      "source": [
        "### Sobre o notebook\n",
        "\n",
        "Esse notebook contém diversos desafios envolvendo os aprendizados de cada aula. É um notebook construído com o enunciado de cada desafio e com espaço para construir e executar suas soluções. Se for necessário adicionar mais células de código para solucionar o desafio, fique à vontade para acrescentar."
      ]
    },
    {
      "cell_type": "markdown",
      "metadata": {
        "id": "fbQaJ7XHqd2p"
      },
      "source": [
        "# Aula 1"
      ]
    },
    {
      "cell_type": "markdown",
      "metadata": {
        "id": "XXpTDkQmqgGT"
      },
      "source": [
        "### Desafio 1\n",
        "\n",
        "Faça a leitura da base de dados de diabetes e realize a divisão dos dados em variáveis explicativas e variável alvo (x e y)."
      ]
    },
    {
      "cell_type": "code",
      "execution_count": 1,
      "metadata": {
        "id": "o-clr688LDl2"
      },
      "outputs": [],
      "source": [
        "import pandas as pd"
      ]
    },
    {
      "cell_type": "code",
      "execution_count": 2,
      "metadata": {
        "id": "0Fo_op4-oRV2"
      },
      "outputs": [],
      "source": [
        "url = 'https://raw.githubusercontent.com/moises-rb/DS_ONE/refs/heads/main/Estatistica_MachineLearning/6%20-%20Classificacao_Validacao_Modelos_Metricas_Avaliacao/base_dados/diabetes.csv'"
      ]
    },
    {
      "cell_type": "code",
      "execution_count": 3,
      "metadata": {
        "id": "xXr5Gvk8oRV3",
        "outputId": "e92f40b2-dbad-41d0-9e40-38ff05001f59",
        "colab": {
          "base_uri": "https://localhost:8080/",
          "height": 423
        }
      },
      "outputs": [
        {
          "output_type": "execute_result",
          "data": {
            "text/plain": [
              "     glicemia  pressao_sanguinea  dobra_cutane_triceps  insulina    imc  \\\n",
              "0          66                 23                    94      28.1  0.167   \n",
              "1          40                 35                   168      43.1  2.288   \n",
              "2          50                 32                    88      31.0  0.248   \n",
              "3          70                 45                   543      30.5  0.158   \n",
              "4          60                 23                   846      30.1  0.398   \n",
              "..        ...                ...                   ...       ...    ...   \n",
              "389        88                 44                   510      43.3  0.222   \n",
              "390        88                 39                   110      36.5  1.057   \n",
              "391        58                 26                    16      28.4  0.766   \n",
              "392        76                 48                   180      32.9  0.171   \n",
              "393        72                 23                   112      26.2  0.245   \n",
              "\n",
              "     diabetes  \n",
              "0           0  \n",
              "1           1  \n",
              "2           1  \n",
              "3           1  \n",
              "4           1  \n",
              "..        ...  \n",
              "389         1  \n",
              "390         1  \n",
              "391         0  \n",
              "392         0  \n",
              "393         0  \n",
              "\n",
              "[394 rows x 6 columns]"
            ],
            "text/html": [
              "\n",
              "  <div id=\"df-2239f300-1078-46f4-bb73-3621d33de247\" class=\"colab-df-container\">\n",
              "    <div>\n",
              "<style scoped>\n",
              "    .dataframe tbody tr th:only-of-type {\n",
              "        vertical-align: middle;\n",
              "    }\n",
              "\n",
              "    .dataframe tbody tr th {\n",
              "        vertical-align: top;\n",
              "    }\n",
              "\n",
              "    .dataframe thead th {\n",
              "        text-align: right;\n",
              "    }\n",
              "</style>\n",
              "<table border=\"1\" class=\"dataframe\">\n",
              "  <thead>\n",
              "    <tr style=\"text-align: right;\">\n",
              "      <th></th>\n",
              "      <th>glicemia</th>\n",
              "      <th>pressao_sanguinea</th>\n",
              "      <th>dobra_cutane_triceps</th>\n",
              "      <th>insulina</th>\n",
              "      <th>imc</th>\n",
              "      <th>diabetes</th>\n",
              "    </tr>\n",
              "  </thead>\n",
              "  <tbody>\n",
              "    <tr>\n",
              "      <th>0</th>\n",
              "      <td>66</td>\n",
              "      <td>23</td>\n",
              "      <td>94</td>\n",
              "      <td>28.1</td>\n",
              "      <td>0.167</td>\n",
              "      <td>0</td>\n",
              "    </tr>\n",
              "    <tr>\n",
              "      <th>1</th>\n",
              "      <td>40</td>\n",
              "      <td>35</td>\n",
              "      <td>168</td>\n",
              "      <td>43.1</td>\n",
              "      <td>2.288</td>\n",
              "      <td>1</td>\n",
              "    </tr>\n",
              "    <tr>\n",
              "      <th>2</th>\n",
              "      <td>50</td>\n",
              "      <td>32</td>\n",
              "      <td>88</td>\n",
              "      <td>31.0</td>\n",
              "      <td>0.248</td>\n",
              "      <td>1</td>\n",
              "    </tr>\n",
              "    <tr>\n",
              "      <th>3</th>\n",
              "      <td>70</td>\n",
              "      <td>45</td>\n",
              "      <td>543</td>\n",
              "      <td>30.5</td>\n",
              "      <td>0.158</td>\n",
              "      <td>1</td>\n",
              "    </tr>\n",
              "    <tr>\n",
              "      <th>4</th>\n",
              "      <td>60</td>\n",
              "      <td>23</td>\n",
              "      <td>846</td>\n",
              "      <td>30.1</td>\n",
              "      <td>0.398</td>\n",
              "      <td>1</td>\n",
              "    </tr>\n",
              "    <tr>\n",
              "      <th>...</th>\n",
              "      <td>...</td>\n",
              "      <td>...</td>\n",
              "      <td>...</td>\n",
              "      <td>...</td>\n",
              "      <td>...</td>\n",
              "      <td>...</td>\n",
              "    </tr>\n",
              "    <tr>\n",
              "      <th>389</th>\n",
              "      <td>88</td>\n",
              "      <td>44</td>\n",
              "      <td>510</td>\n",
              "      <td>43.3</td>\n",
              "      <td>0.222</td>\n",
              "      <td>1</td>\n",
              "    </tr>\n",
              "    <tr>\n",
              "      <th>390</th>\n",
              "      <td>88</td>\n",
              "      <td>39</td>\n",
              "      <td>110</td>\n",
              "      <td>36.5</td>\n",
              "      <td>1.057</td>\n",
              "      <td>1</td>\n",
              "    </tr>\n",
              "    <tr>\n",
              "      <th>391</th>\n",
              "      <td>58</td>\n",
              "      <td>26</td>\n",
              "      <td>16</td>\n",
              "      <td>28.4</td>\n",
              "      <td>0.766</td>\n",
              "      <td>0</td>\n",
              "    </tr>\n",
              "    <tr>\n",
              "      <th>392</th>\n",
              "      <td>76</td>\n",
              "      <td>48</td>\n",
              "      <td>180</td>\n",
              "      <td>32.9</td>\n",
              "      <td>0.171</td>\n",
              "      <td>0</td>\n",
              "    </tr>\n",
              "    <tr>\n",
              "      <th>393</th>\n",
              "      <td>72</td>\n",
              "      <td>23</td>\n",
              "      <td>112</td>\n",
              "      <td>26.2</td>\n",
              "      <td>0.245</td>\n",
              "      <td>0</td>\n",
              "    </tr>\n",
              "  </tbody>\n",
              "</table>\n",
              "<p>394 rows × 6 columns</p>\n",
              "</div>\n",
              "    <div class=\"colab-df-buttons\">\n",
              "\n",
              "  <div class=\"colab-df-container\">\n",
              "    <button class=\"colab-df-convert\" onclick=\"convertToInteractive('df-2239f300-1078-46f4-bb73-3621d33de247')\"\n",
              "            title=\"Convert this dataframe to an interactive table.\"\n",
              "            style=\"display:none;\">\n",
              "\n",
              "  <svg xmlns=\"http://www.w3.org/2000/svg\" height=\"24px\" viewBox=\"0 -960 960 960\">\n",
              "    <path d=\"M120-120v-720h720v720H120Zm60-500h600v-160H180v160Zm220 220h160v-160H400v160Zm0 220h160v-160H400v160ZM180-400h160v-160H180v160Zm440 0h160v-160H620v160ZM180-180h160v-160H180v160Zm440 0h160v-160H620v160Z\"/>\n",
              "  </svg>\n",
              "    </button>\n",
              "\n",
              "  <style>\n",
              "    .colab-df-container {\n",
              "      display:flex;\n",
              "      gap: 12px;\n",
              "    }\n",
              "\n",
              "    .colab-df-convert {\n",
              "      background-color: #E8F0FE;\n",
              "      border: none;\n",
              "      border-radius: 50%;\n",
              "      cursor: pointer;\n",
              "      display: none;\n",
              "      fill: #1967D2;\n",
              "      height: 32px;\n",
              "      padding: 0 0 0 0;\n",
              "      width: 32px;\n",
              "    }\n",
              "\n",
              "    .colab-df-convert:hover {\n",
              "      background-color: #E2EBFA;\n",
              "      box-shadow: 0px 1px 2px rgba(60, 64, 67, 0.3), 0px 1px 3px 1px rgba(60, 64, 67, 0.15);\n",
              "      fill: #174EA6;\n",
              "    }\n",
              "\n",
              "    .colab-df-buttons div {\n",
              "      margin-bottom: 4px;\n",
              "    }\n",
              "\n",
              "    [theme=dark] .colab-df-convert {\n",
              "      background-color: #3B4455;\n",
              "      fill: #D2E3FC;\n",
              "    }\n",
              "\n",
              "    [theme=dark] .colab-df-convert:hover {\n",
              "      background-color: #434B5C;\n",
              "      box-shadow: 0px 1px 3px 1px rgba(0, 0, 0, 0.15);\n",
              "      filter: drop-shadow(0px 1px 2px rgba(0, 0, 0, 0.3));\n",
              "      fill: #FFFFFF;\n",
              "    }\n",
              "  </style>\n",
              "\n",
              "    <script>\n",
              "      const buttonEl =\n",
              "        document.querySelector('#df-2239f300-1078-46f4-bb73-3621d33de247 button.colab-df-convert');\n",
              "      buttonEl.style.display =\n",
              "        google.colab.kernel.accessAllowed ? 'block' : 'none';\n",
              "\n",
              "      async function convertToInteractive(key) {\n",
              "        const element = document.querySelector('#df-2239f300-1078-46f4-bb73-3621d33de247');\n",
              "        const dataTable =\n",
              "          await google.colab.kernel.invokeFunction('convertToInteractive',\n",
              "                                                    [key], {});\n",
              "        if (!dataTable) return;\n",
              "\n",
              "        const docLinkHtml = 'Like what you see? Visit the ' +\n",
              "          '<a target=\"_blank\" href=https://colab.research.google.com/notebooks/data_table.ipynb>data table notebook</a>'\n",
              "          + ' to learn more about interactive tables.';\n",
              "        element.innerHTML = '';\n",
              "        dataTable['output_type'] = 'display_data';\n",
              "        await google.colab.output.renderOutput(dataTable, element);\n",
              "        const docLink = document.createElement('div');\n",
              "        docLink.innerHTML = docLinkHtml;\n",
              "        element.appendChild(docLink);\n",
              "      }\n",
              "    </script>\n",
              "  </div>\n",
              "\n",
              "\n",
              "    <div id=\"df-292ee78e-c808-4c27-9a40-e20a38a0b4ee\">\n",
              "      <button class=\"colab-df-quickchart\" onclick=\"quickchart('df-292ee78e-c808-4c27-9a40-e20a38a0b4ee')\"\n",
              "                title=\"Suggest charts\"\n",
              "                style=\"display:none;\">\n",
              "\n",
              "<svg xmlns=\"http://www.w3.org/2000/svg\" height=\"24px\"viewBox=\"0 0 24 24\"\n",
              "     width=\"24px\">\n",
              "    <g>\n",
              "        <path d=\"M19 3H5c-1.1 0-2 .9-2 2v14c0 1.1.9 2 2 2h14c1.1 0 2-.9 2-2V5c0-1.1-.9-2-2-2zM9 17H7v-7h2v7zm4 0h-2V7h2v10zm4 0h-2v-4h2v4z\"/>\n",
              "    </g>\n",
              "</svg>\n",
              "      </button>\n",
              "\n",
              "<style>\n",
              "  .colab-df-quickchart {\n",
              "      --bg-color: #E8F0FE;\n",
              "      --fill-color: #1967D2;\n",
              "      --hover-bg-color: #E2EBFA;\n",
              "      --hover-fill-color: #174EA6;\n",
              "      --disabled-fill-color: #AAA;\n",
              "      --disabled-bg-color: #DDD;\n",
              "  }\n",
              "\n",
              "  [theme=dark] .colab-df-quickchart {\n",
              "      --bg-color: #3B4455;\n",
              "      --fill-color: #D2E3FC;\n",
              "      --hover-bg-color: #434B5C;\n",
              "      --hover-fill-color: #FFFFFF;\n",
              "      --disabled-bg-color: #3B4455;\n",
              "      --disabled-fill-color: #666;\n",
              "  }\n",
              "\n",
              "  .colab-df-quickchart {\n",
              "    background-color: var(--bg-color);\n",
              "    border: none;\n",
              "    border-radius: 50%;\n",
              "    cursor: pointer;\n",
              "    display: none;\n",
              "    fill: var(--fill-color);\n",
              "    height: 32px;\n",
              "    padding: 0;\n",
              "    width: 32px;\n",
              "  }\n",
              "\n",
              "  .colab-df-quickchart:hover {\n",
              "    background-color: var(--hover-bg-color);\n",
              "    box-shadow: 0 1px 2px rgba(60, 64, 67, 0.3), 0 1px 3px 1px rgba(60, 64, 67, 0.15);\n",
              "    fill: var(--button-hover-fill-color);\n",
              "  }\n",
              "\n",
              "  .colab-df-quickchart-complete:disabled,\n",
              "  .colab-df-quickchart-complete:disabled:hover {\n",
              "    background-color: var(--disabled-bg-color);\n",
              "    fill: var(--disabled-fill-color);\n",
              "    box-shadow: none;\n",
              "  }\n",
              "\n",
              "  .colab-df-spinner {\n",
              "    border: 2px solid var(--fill-color);\n",
              "    border-color: transparent;\n",
              "    border-bottom-color: var(--fill-color);\n",
              "    animation:\n",
              "      spin 1s steps(1) infinite;\n",
              "  }\n",
              "\n",
              "  @keyframes spin {\n",
              "    0% {\n",
              "      border-color: transparent;\n",
              "      border-bottom-color: var(--fill-color);\n",
              "      border-left-color: var(--fill-color);\n",
              "    }\n",
              "    20% {\n",
              "      border-color: transparent;\n",
              "      border-left-color: var(--fill-color);\n",
              "      border-top-color: var(--fill-color);\n",
              "    }\n",
              "    30% {\n",
              "      border-color: transparent;\n",
              "      border-left-color: var(--fill-color);\n",
              "      border-top-color: var(--fill-color);\n",
              "      border-right-color: var(--fill-color);\n",
              "    }\n",
              "    40% {\n",
              "      border-color: transparent;\n",
              "      border-right-color: var(--fill-color);\n",
              "      border-top-color: var(--fill-color);\n",
              "    }\n",
              "    60% {\n",
              "      border-color: transparent;\n",
              "      border-right-color: var(--fill-color);\n",
              "    }\n",
              "    80% {\n",
              "      border-color: transparent;\n",
              "      border-right-color: var(--fill-color);\n",
              "      border-bottom-color: var(--fill-color);\n",
              "    }\n",
              "    90% {\n",
              "      border-color: transparent;\n",
              "      border-bottom-color: var(--fill-color);\n",
              "    }\n",
              "  }\n",
              "</style>\n",
              "\n",
              "      <script>\n",
              "        async function quickchart(key) {\n",
              "          const quickchartButtonEl =\n",
              "            document.querySelector('#' + key + ' button');\n",
              "          quickchartButtonEl.disabled = true;  // To prevent multiple clicks.\n",
              "          quickchartButtonEl.classList.add('colab-df-spinner');\n",
              "          try {\n",
              "            const charts = await google.colab.kernel.invokeFunction(\n",
              "                'suggestCharts', [key], {});\n",
              "          } catch (error) {\n",
              "            console.error('Error during call to suggestCharts:', error);\n",
              "          }\n",
              "          quickchartButtonEl.classList.remove('colab-df-spinner');\n",
              "          quickchartButtonEl.classList.add('colab-df-quickchart-complete');\n",
              "        }\n",
              "        (() => {\n",
              "          let quickchartButtonEl =\n",
              "            document.querySelector('#df-292ee78e-c808-4c27-9a40-e20a38a0b4ee button');\n",
              "          quickchartButtonEl.style.display =\n",
              "            google.colab.kernel.accessAllowed ? 'block' : 'none';\n",
              "        })();\n",
              "      </script>\n",
              "    </div>\n",
              "\n",
              "  <div id=\"id_22d30382-9da3-4f91-8902-683a19bfd101\">\n",
              "    <style>\n",
              "      .colab-df-generate {\n",
              "        background-color: #E8F0FE;\n",
              "        border: none;\n",
              "        border-radius: 50%;\n",
              "        cursor: pointer;\n",
              "        display: none;\n",
              "        fill: #1967D2;\n",
              "        height: 32px;\n",
              "        padding: 0 0 0 0;\n",
              "        width: 32px;\n",
              "      }\n",
              "\n",
              "      .colab-df-generate:hover {\n",
              "        background-color: #E2EBFA;\n",
              "        box-shadow: 0px 1px 2px rgba(60, 64, 67, 0.3), 0px 1px 3px 1px rgba(60, 64, 67, 0.15);\n",
              "        fill: #174EA6;\n",
              "      }\n",
              "\n",
              "      [theme=dark] .colab-df-generate {\n",
              "        background-color: #3B4455;\n",
              "        fill: #D2E3FC;\n",
              "      }\n",
              "\n",
              "      [theme=dark] .colab-df-generate:hover {\n",
              "        background-color: #434B5C;\n",
              "        box-shadow: 0px 1px 3px 1px rgba(0, 0, 0, 0.15);\n",
              "        filter: drop-shadow(0px 1px 2px rgba(0, 0, 0, 0.3));\n",
              "        fill: #FFFFFF;\n",
              "      }\n",
              "    </style>\n",
              "    <button class=\"colab-df-generate\" onclick=\"generateWithVariable('dados')\"\n",
              "            title=\"Generate code using this dataframe.\"\n",
              "            style=\"display:none;\">\n",
              "\n",
              "  <svg xmlns=\"http://www.w3.org/2000/svg\" height=\"24px\"viewBox=\"0 0 24 24\"\n",
              "       width=\"24px\">\n",
              "    <path d=\"M7,19H8.4L18.45,9,17,7.55,7,17.6ZM5,21V16.75L18.45,3.32a2,2,0,0,1,2.83,0l1.4,1.43a1.91,1.91,0,0,1,.58,1.4,1.91,1.91,0,0,1-.58,1.4L9.25,21ZM18.45,9,17,7.55Zm-12,3A5.31,5.31,0,0,0,4.9,8.1,5.31,5.31,0,0,0,1,6.5,5.31,5.31,0,0,0,4.9,4.9,5.31,5.31,0,0,0,6.5,1,5.31,5.31,0,0,0,8.1,4.9,5.31,5.31,0,0,0,12,6.5,5.46,5.46,0,0,0,6.5,12Z\"/>\n",
              "  </svg>\n",
              "    </button>\n",
              "    <script>\n",
              "      (() => {\n",
              "      const buttonEl =\n",
              "        document.querySelector('#id_22d30382-9da3-4f91-8902-683a19bfd101 button.colab-df-generate');\n",
              "      buttonEl.style.display =\n",
              "        google.colab.kernel.accessAllowed ? 'block' : 'none';\n",
              "\n",
              "      buttonEl.onclick = () => {\n",
              "        google.colab.notebook.generateWithVariable('dados');\n",
              "      }\n",
              "      })();\n",
              "    </script>\n",
              "  </div>\n",
              "\n",
              "    </div>\n",
              "  </div>\n"
            ],
            "application/vnd.google.colaboratory.intrinsic+json": {
              "type": "dataframe",
              "variable_name": "dados",
              "summary": "{\n  \"name\": \"dados\",\n  \"rows\": 394,\n  \"fields\": [\n    {\n      \"column\": \"glicemia\",\n      \"properties\": {\n        \"dtype\": \"number\",\n        \"std\": 12,\n        \"min\": 24,\n        \"max\": 110,\n        \"num_unique_values\": 37,\n        \"samples\": [\n          68,\n          64,\n          60\n        ],\n        \"semantic_type\": \"\",\n        \"description\": \"\"\n      }\n    },\n    {\n      \"column\": \"pressao_sanguinea\",\n      \"properties\": {\n        \"dtype\": \"number\",\n        \"std\": 10,\n        \"min\": 7,\n        \"max\": 63,\n        \"num_unique_values\": 48,\n        \"samples\": [\n          51,\n          52,\n          18\n        ],\n        \"semantic_type\": \"\",\n        \"description\": \"\"\n      }\n    },\n    {\n      \"column\": \"dobra_cutane_triceps\",\n      \"properties\": {\n        \"dtype\": \"number\",\n        \"std\": 118,\n        \"min\": 14,\n        \"max\": 846,\n        \"num_unique_values\": 185,\n        \"samples\": [\n          240,\n          18,\n          274\n        ],\n        \"semantic_type\": \"\",\n        \"description\": \"\"\n      }\n    },\n    {\n      \"column\": \"insulina\",\n      \"properties\": {\n        \"dtype\": \"number\",\n        \"std\": 7.210160099590896,\n        \"min\": 0.0,\n        \"max\": 67.1,\n        \"num_unique_values\": 195,\n        \"samples\": [\n          42.1,\n          24.0,\n          46.1\n        ],\n        \"semantic_type\": \"\",\n        \"description\": \"\"\n      }\n    },\n    {\n      \"column\": \"imc\",\n      \"properties\": {\n        \"dtype\": \"number\",\n        \"std\": 0.3501269481387728,\n        \"min\": 0.085,\n        \"max\": 2.42,\n        \"num_unique_values\": 332,\n        \"samples\": [\n          0.962,\n          0.251,\n          0.229\n        ],\n        \"semantic_type\": \"\",\n        \"description\": \"\"\n      }\n    },\n    {\n      \"column\": \"diabetes\",\n      \"properties\": {\n        \"dtype\": \"number\",\n        \"std\": 0,\n        \"min\": 0,\n        \"max\": 1,\n        \"num_unique_values\": 2,\n        \"samples\": [\n          1,\n          0\n        ],\n        \"semantic_type\": \"\",\n        \"description\": \"\"\n      }\n    }\n  ]\n}"
            }
          },
          "metadata": {},
          "execution_count": 3
        }
      ],
      "source": [
        "dados = pd.read_csv(url)\n",
        "dados"
      ]
    },
    {
      "cell_type": "code",
      "execution_count": 4,
      "metadata": {
        "id": "WFiA_YOaoRV4"
      },
      "outputs": [],
      "source": [
        "x = dados.drop('diabetes', axis=1)\n",
        "y = dados['diabetes']"
      ]
    },
    {
      "cell_type": "markdown",
      "metadata": {
        "id": "dn6U1p70qw7p"
      },
      "source": [
        "### Desafio 2\n",
        "\n",
        "Realize a divisão dos dados entre treino e teste."
      ]
    },
    {
      "cell_type": "code",
      "execution_count": 5,
      "metadata": {
        "id": "UNjU_YvNoRV8"
      },
      "outputs": [],
      "source": [
        "from sklearn.model_selection import train_test_split"
      ]
    },
    {
      "cell_type": "code",
      "execution_count": 6,
      "metadata": {
        "id": "LnkeNaqPoRV9"
      },
      "outputs": [],
      "source": [
        "x, x_teste, y, y_teste = train_test_split(x, y, test_size=0.15, random_state=5, stratify=y)\n",
        "x_treino, x_val, y_treino, y_val = train_test_split(x, y, random_state=5, stratify=y)"
      ]
    },
    {
      "cell_type": "markdown",
      "metadata": {
        "id": "IcmuQBIyxHc8"
      },
      "source": [
        "### Desafio 3\n",
        "\n",
        "Crie 2 modelos utilizando os algoritmos [DecisionTreeClassifier](https://scikit-learn.org/stable/modules/generated/sklearn.tree.DecisionTreeClassifier.html) e [RandomForestClassifer](https://scikit-learn.org/stable/modules/generated/sklearn.ensemble.RandomForestClassifier.html) e avalie a acurácia de treino e teste, escolhendo valores para o parâmetro `max_depth` para os modelos não se especializarem demais no padrão dos dados de treino."
      ]
    },
    {
      "cell_type": "code",
      "execution_count": 7,
      "metadata": {
        "id": "YPeQmyV1YhwA"
      },
      "outputs": [],
      "source": [
        "from sklearn.tree import DecisionTreeClassifier\n",
        "from sklearn.ensemble import RandomForestClassifier"
      ]
    },
    {
      "cell_type": "code",
      "execution_count": 8,
      "metadata": {
        "id": "lyBR0B2boRV_"
      },
      "outputs": [],
      "source": [
        "arvore = DecisionTreeClassifier(max_depth = 3)\n",
        "random_forest = RandomForestClassifier(max_depth = 2)"
      ]
    },
    {
      "cell_type": "markdown",
      "metadata": {
        "id": "Bpyc1J4soRV_"
      },
      "source": [
        "Algoritmo [DecisionTreeClassifier](https://scikit-learn.org/stable/modules/generated/sklearn.tree.DecisionTreeClassifier.html)"
      ]
    },
    {
      "cell_type": "code",
      "execution_count": 9,
      "metadata": {
        "id": "WvBEJpgcoRWA",
        "outputId": "aefb13ac-6377-4ef7-f7a0-c98d0b123b32",
        "colab": {
          "base_uri": "https://localhost:8080/"
        }
      },
      "outputs": [
        {
          "output_type": "stream",
          "name": "stdout",
          "text": [
            "Acurácia do treino: 76.40%\n",
            "Acurácia de teste: 63.10%\n"
          ]
        }
      ],
      "source": [
        "arvore.fit(x_treino, y_treino)\n",
        "print(f'Acurácia do treino: {arvore.score(x_treino, y_treino) * 100:.2f}%')\n",
        "print(f'Acurácia de teste: {arvore.score(x_val, y_val) * 100:.2f}%')"
      ]
    },
    {
      "cell_type": "markdown",
      "metadata": {
        "id": "eIlMQJV2oRWA"
      },
      "source": [
        "Algoritmo [RandomForestClassifer](https://scikit-learn.org/stable/modules/generated/sklearn.ensemble.RandomForestClassifier.html)"
      ]
    },
    {
      "cell_type": "code",
      "execution_count": 10,
      "metadata": {
        "id": "q_tcn1OmoRWB",
        "outputId": "43bc9923-81b4-43e9-f0f7-b326776e2f2c",
        "colab": {
          "base_uri": "https://localhost:8080/"
        }
      },
      "outputs": [
        {
          "output_type": "stream",
          "name": "stdout",
          "text": [
            "Acurácia do treino: 77.60%\n",
            "Acurácia de teste: 65.48%\n"
          ]
        }
      ],
      "source": [
        "random_forest.fit(x_treino, y_treino)\n",
        "print(f'Acurácia do treino: {random_forest.score(x_treino, y_treino) * 100:.2f}%')\n",
        "print(f'Acurácia de teste: {random_forest.score(x_val, y_val) * 100:.2f}%')"
      ]
    },
    {
      "cell_type": "markdown",
      "metadata": {
        "id": "luUySRh5xNL1"
      },
      "source": [
        "### Desafio 4\n",
        "\n",
        "Construa uma matriz de confusão para cada um dos modelos para avaliar o desempenho das previsões."
      ]
    },
    {
      "cell_type": "code",
      "execution_count": 11,
      "metadata": {
        "id": "yUASrMF-oRWB"
      },
      "outputs": [],
      "source": [
        "from sklearn.metrics import ConfusionMatrixDisplay"
      ]
    },
    {
      "cell_type": "code",
      "execution_count": 12,
      "metadata": {
        "id": "t-fmXmJioRWC",
        "outputId": "fc82a4da-390f-417b-b17e-2acb9aeaa1f5",
        "colab": {
          "base_uri": "https://localhost:8080/",
          "height": 449
        }
      },
      "outputs": [
        {
          "output_type": "display_data",
          "data": {
            "text/plain": [
              "<Figure size 640x480 with 2 Axes>"
            ],
            "image/png": "[encoded data removed]"
          },
          "metadata": {}
        }
      ],
      "source": [
        "previsao_arvore = arvore.predict(x_val)\n",
        "ConfusionMatrixDisplay.from_predictions(y_val, previsao_arvore);"
      ]
    },
    {
      "cell_type": "code",
      "execution_count": 13,
      "metadata": {
        "id": "i_rVSBq6oRWC",
        "outputId": "df028c9c-f0f0-4fca-822a-6f4f0bc9fdb2",
        "colab": {
          "base_uri": "https://localhost:8080/",
          "height": 455
        }
      },
      "outputs": [
        {
          "output_type": "display_data",
          "data": {
            "text/plain": [
              "<Figure size 640x480 with 2 Axes>"
            ],
            "image/png": "[encoded data removed]"
          },
          "metadata": {}
        }
      ],
      "source": [
        "previsao_rf = random_forest.predict(x_val)\n",
        "ConfusionMatrixDisplay.from_predictions(y_val, previsao_rf);"
      ]
    },
    {
      "cell_type": "markdown",
      "metadata": {
        "id": "GHcvJV23oRWC"
      },
      "source": []
    },
    {
      "cell_type": "markdown",
      "metadata": {
        "id": "dQtdWeLPZ2qI"
      },
      "source": [
        "# Aula 2"
      ]
    },
    {
      "cell_type": "markdown",
      "metadata": {
        "id": "j3gbWXPaZ6b_"
      },
      "source": [
        "### Desafio 1\n",
        "\n",
        "Extraia as métricas acurácia, recall, precisão e F1-Score dos modelos de classificação gerados no desafio da aula 1."
      ]
    },
    {
      "cell_type": "code",
      "execution_count": 14,
      "metadata": {
        "id": "b-TqlLAeaKNH"
      },
      "outputs": [],
      "source": [
        "from sklearn.metrics import accuracy_score, recall_score, precision_score, f1_score"
      ]
    },
    {
      "cell_type": "code",
      "execution_count": 15,
      "metadata": {
        "id": "gwSa_Cw3oRWD",
        "outputId": "b3c11223-80f3-4413-eca5-a5d23e0457be",
        "colab": {
          "base_uri": "https://localhost:8080/"
        }
      },
      "outputs": [
        {
          "output_type": "stream",
          "name": "stdout",
          "text": [
            "Acurácia (Decision Tree): 63.10%\n",
            "Recall (Decision Tree): 17.86%\n",
            "Precisão (Decision Tree): 38.46%\n",
            "F1_Score (Decision Tree): 24.39%\n"
          ]
        }
      ],
      "source": [
        "previsao_arvore = arvore.predict(x_val)\n",
        "\n",
        "print(f'Acurácia (Decision Tree): {accuracy_score(y_val, previsao_arvore)* 100:.2f}%')\n",
        "print(f'Recall (Decision Tree): {recall_score(y_val, previsao_arvore)* 100:.2f}%')\n",
        "print(f'Precisão (Decision Tree): {precision_score(y_val, previsao_arvore)* 100:.2f}%')\n",
        "print(f'F1_Score (Decision Tree): {f1_score(y_val, previsao_arvore)* 100:.2f}%')"
      ]
    },
    {
      "cell_type": "code",
      "execution_count": 16,
      "metadata": {
        "id": "lE2bOKPuoRWE",
        "outputId": "f18e5590-5648-485d-a990-df2d8ec38877",
        "colab": {
          "base_uri": "https://localhost:8080/"
        }
      },
      "outputs": [
        {
          "output_type": "stream",
          "name": "stdout",
          "text": [
            "Acurácia (Random Forest): 65.48%\n",
            "Recall (Random Forest): 17.86%\n",
            "Precisão (Random Forest): 45.45%\n",
            "F1_Score (Random Forest): 25.64%\n"
          ]
        }
      ],
      "source": [
        "previsao_rf = random_forest.predict(x_val)\n",
        "\n",
        "print(f'Acurácia (Random Forest): {accuracy_score(y_val, previsao_rf)* 100:.2f}%')\n",
        "print(f'Recall (Random Forest): {recall_score(y_val, previsao_rf)* 100:.2f}%')\n",
        "print(f'Precisão (Random Forest): {precision_score(y_val, previsao_rf)* 100:.2f}%')\n",
        "print(f'F1_Score (Random Forest): {f1_score(y_val, previsao_rf)* 100:.2f}%')"
      ]
    },
    {
      "cell_type": "markdown",
      "metadata": {
        "id": "Iy6nX8iQZ_JJ"
      },
      "source": [
        "### Desafio 2\n",
        "\n",
        "Obtenha a curva ROC e a métrica AUC dos modelos de classificação gerados no desafio da aula 1, comparando as curvas no mesmo gráfico.\n",
        "\n",
        "*Como uma dica, vasculhe a documentação do `Scikit-learn` a partir deste [link](https://scikit-learn.org/stable/auto_examples/release_highlights/plot_release_highlights_0_22_0.html#new-plotting-api) e verifique uma forma de apresentar os resultados das curvas no mesmo gráfico usando o matplotlib*"
      ]
    },
    {
      "cell_type": "code",
      "execution_count": 17,
      "metadata": {
        "id": "CBfg1CYkdUFr"
      },
      "outputs": [],
      "source": [
        "from sklearn.metrics import RocCurveDisplay, roc_auc_score"
      ]
    },
    {
      "cell_type": "code",
      "execution_count": 18,
      "metadata": {
        "id": "M677VRedoRWF",
        "outputId": "f34b70f5-7f09-45dc-bc75-7987c23113ca",
        "colab": {
          "base_uri": "https://localhost:8080/",
          "height": 451
        }
      },
      "outputs": [
        {
          "output_type": "display_data",
          "data": {
            "text/plain": [
              "<Figure size 640x480 with 1 Axes>"
            ],
            "image/png": "[encoded data removed]"
          },
          "metadata": {}
        }
      ],
      "source": [
        "curva_roc = RocCurveDisplay.from_predictions(y_val, previsao_arvore, name = 'Decision Tree')\n",
        "curva_roc = RocCurveDisplay.from_predictions(y_val, previsao_rf, name = 'Random Forest', ax = curva_roc.ax_)"
      ]
    },
    {
      "cell_type": "code",
      "execution_count": 19,
      "metadata": {
        "id": "ynkJEkvKoRWF",
        "outputId": "20ec2b3e-03b8-4738-f1ac-9c221526b72a",
        "colab": {
          "base_uri": "https://localhost:8080/"
        }
      },
      "outputs": [
        {
          "output_type": "stream",
          "name": "stdout",
          "text": [
            "AUC (Decision Tree): 51.79%\n",
            "AUC (Random Forest): 53.57%\n"
          ]
        }
      ],
      "source": [
        "print(f'AUC (Decision Tree): {roc_auc_score(y_val, previsao_arvore)* 100:.2f}%')\n",
        "print(f'AUC (Random Forest): {roc_auc_score(y_val, previsao_rf)* 100:.2f}%')"
      ]
    },
    {
      "cell_type": "markdown",
      "metadata": {
        "id": "MtAISYmrZ_VR"
      },
      "source": [
        "### Desafio 3\n",
        "\n",
        "Obtenha a curva precisão x recall e a métrica AP dos modelos de classificação gerados no desafio da aula 1, comparando as curvas no mesmo gráfico.\n",
        "\n",
        "*Como uma dica, vasculhe a documentação do `Scikit-learn` a partir deste [link](https://scikit-learn.org/stable/auto_examples/release_highlights/plot_release_highlights_0_22_0.html#new-plotting-api) e verifique uma forma de apresentar os resultados das curvas no mesmo gráfico usando o matplotlib*"
      ]
    },
    {
      "cell_type": "code",
      "execution_count": 20,
      "metadata": {
        "id": "n5UUgmk4af0I"
      },
      "outputs": [],
      "source": [
        "from sklearn.metrics import PrecisionRecallDisplay, average_precision_score"
      ]
    },
    {
      "cell_type": "code",
      "execution_count": 21,
      "metadata": {
        "id": "Z7fv64-foRWG",
        "outputId": "f28a4533-54a4-405d-9023-5d48a20f3217",
        "colab": {
          "base_uri": "https://localhost:8080/",
          "height": 451
        }
      },
      "outputs": [
        {
          "output_type": "display_data",
          "data": {
            "text/plain": [
              "<Figure size 640x480 with 1 Axes>"
            ],
            "image/png": "[encoded data removed]"
          },
          "metadata": {}
        }
      ],
      "source": [
        "curva_precision_recall = PrecisionRecallDisplay.from_predictions(y_val, previsao_arvore, name = 'Decision Tree')\n",
        "curva_precision_recall = PrecisionRecallDisplay.from_predictions(y_val, previsao_rf, name = 'Random Forest', ax = curva_precision_recall.ax_)"
      ]
    },
    {
      "cell_type": "code",
      "execution_count": 22,
      "metadata": {
        "id": "VOXwnKGioRWH",
        "outputId": "53cbb3e6-4e80-4a3f-c3bb-950d6ba56898",
        "colab": {
          "base_uri": "https://localhost:8080/"
        }
      },
      "outputs": [
        {
          "output_type": "stream",
          "name": "stdout",
          "text": [
            "AP (Decision Tree): 34.25%\n",
            "AP (Random Forest): 35.50%\n"
          ]
        }
      ],
      "source": [
        "print(f'AP (Decision Tree): {average_precision_score(y_val, previsao_arvore)*100:.2f}%')\n",
        "print(f'AP (Random Forest): {average_precision_score(y_val, previsao_rf)*100:.2f}%')"
      ]
    },
    {
      "cell_type": "markdown",
      "metadata": {
        "id": "QC-mYuowZ_YO"
      },
      "source": [
        "### Desafio 4\n",
        "\n",
        "Gere os relatórios de métricas dos modelos de classificação gerados no desafio da aula 1."
      ]
    },
    {
      "cell_type": "code",
      "execution_count": 23,
      "metadata": {
        "id": "AZIfQPpJZ3rG"
      },
      "outputs": [],
      "source": [
        "from sklearn.metrics import classification_report"
      ]
    },
    {
      "cell_type": "code",
      "execution_count": 24,
      "metadata": {
        "id": "nASHYmXnoRWI",
        "outputId": "50fea592-345e-4785-bfe1-198bdb14715c",
        "colab": {
          "base_uri": "https://localhost:8080/"
        }
      },
      "outputs": [
        {
          "output_type": "stream",
          "name": "stdout",
          "text": [
            "Decision Tree\n",
            "              precision    recall  f1-score   support\n",
            "\n",
            "           0       0.68      0.86      0.76        56\n",
            "           1       0.38      0.18      0.24        28\n",
            "\n",
            "    accuracy                           0.63        84\n",
            "   macro avg       0.53      0.52      0.50        84\n",
            "weighted avg       0.58      0.63      0.59        84\n",
            "\n",
            "Random Forest\n",
            "              precision    recall  f1-score   support\n",
            "\n",
            "           0       0.68      0.89      0.78        56\n",
            "           1       0.45      0.18      0.26        28\n",
            "\n",
            "    accuracy                           0.65        84\n",
            "   macro avg       0.57      0.54      0.52        84\n",
            "weighted avg       0.61      0.65      0.60        84\n",
            "\n"
          ]
        }
      ],
      "source": [
        "print('Decision Tree')\n",
        "print(classification_report(y_val, previsao_arvore))\n",
        "print('Random Forest')\n",
        "print(classification_report(y_val, previsao_rf))"
      ]
    },
    {
      "cell_type": "markdown",
      "metadata": {
        "id": "1uD6CKpmk-ud"
      },
      "source": [
        "# Aula 3"
      ]
    },
    {
      "cell_type": "markdown",
      "metadata": {
        "id": "_ksJQ1Ca9Alx"
      },
      "source": [
        "### Desafio 1\n",
        "\n",
        "Crie uma função para calcular o intervalo de confiança dos resultados de uma validação cruzada com 2 desvios padrão. A função precisa ter um parâmetro para receber uma lista com os desempenhos da validação cruzada e outro para apresentar o nome do modelo utilizado na validação cruzada. Exemplo de retorno da função:\n",
        "\n",
        "> Intervalo de confiança (\"nome do modelo\"): [\"valor mínimo do intervalo\", \"valor máximo do intervalo\"]\n",
        "\n"
      ]
    },
    {
      "cell_type": "code",
      "execution_count": 25,
      "metadata": {
        "id": "Bg7Uh6QyTyB5"
      },
      "outputs": [],
      "source": [
        "def intervalo_conf(resultados, nome_modelo):\n",
        "    media = resultados.mean()\n",
        "    desvio_padrao = resultados.std()\n",
        "    print(f'Intervalo de confiança ({nome_modelo}): [{(media - 2*desvio_padrao)*100:.2f}%, {min(media + 2*desvio_padrao, 1)*100:.2f}%]')"
      ]
    },
    {
      "cell_type": "markdown",
      "metadata": {
        "id": "aA2RAJvGlCM1"
      },
      "source": [
        "### Desafio 2\n",
        "\n",
        "Avalie o desempenho dos modelos com um intervalo de confiança utilizando a validação cruzada com o método [`KFold`](https://scikit-learn.org/stable/modules/generated/sklearn.model_selection.KFold.html), usando 10 partes e embaralhando os dados antes da separação. Use o método [`cross_val_score`](https://scikit-learn.org/stable/modules/generated/sklearn.model_selection.cross_val_score.html) que não retorna o tempo de execução, apenas as métricas."
      ]
    },
    {
      "cell_type": "code",
      "execution_count": 26,
      "metadata": {
        "id": "1jp9GpFwnR3i"
      },
      "outputs": [],
      "source": [
        "from sklearn.model_selection import cross_val_score, KFold"
      ]
    },
    {
      "cell_type": "code",
      "execution_count": 27,
      "metadata": {
        "id": "WPTmo8_goRWU",
        "outputId": "eb54732a-dc08-4653-e940-715c3df32bad",
        "colab": {
          "base_uri": "https://localhost:8080/"
        }
      },
      "outputs": [
        {
          "output_type": "stream",
          "name": "stdout",
          "text": [
            "Intervalo de confiança (Decision Tree): [50.07%, 87.50%]\n",
            "Intervalo de confiança (Random Forest): [49.08%, 89.17%]\n"
          ]
        }
      ],
      "source": [
        "arvore = DecisionTreeClassifier(max_depth = 3)\n",
        "random_forest = RandomForestClassifier(max_depth = 2)\n",
        "\n",
        "kf = KFold(n_splits = 10, shuffle = True, random_state = 5)\n",
        "\n",
        "resultado_arvore = cross_val_score(arvore, x, y, cv = kf)\n",
        "resultado_rf = cross_val_score(random_forest, x, y, cv = kf)\n",
        "\n",
        "intervalo_conf(resultado_arvore, 'Decision Tree')\n",
        "intervalo_conf(resultado_rf, 'Random Forest')"
      ]
    },
    {
      "cell_type": "markdown",
      "metadata": {
        "id": "FXHAOmL4lFBp"
      },
      "source": [
        "### Desafio 3\n",
        "\n",
        "Avalie o desempenho dos modelos com um intervalo de confiança utilizando a validação cruzada (`cross_val_score`) com o método [`StratifiedKFold`](https://scikit-learn.org/stable/modules/generated/sklearn.model_selection.StratifiedKFold.html#sklearn.model_selection.StratifiedKFold), usando 10 partes e embaralhando os dados antes da separação e avaliando a métrica F1-Score."
      ]
    },
    {
      "cell_type": "code",
      "execution_count": 28,
      "metadata": {
        "id": "QeAunVFjnSOi"
      },
      "outputs": [],
      "source": [
        "from sklearn.model_selection import cross_val_score, StratifiedKFold"
      ]
    },
    {
      "cell_type": "code",
      "execution_count": 29,
      "metadata": {
        "id": "_7dlBY77oRWV",
        "outputId": "11f35285-b4c2-412a-9046-cd4d6cdc9729",
        "colab": {
          "base_uri": "https://localhost:8080/"
        }
      },
      "outputs": [
        {
          "output_type": "stream",
          "name": "stdout",
          "text": [
            "Intervalo de confiança (Decision Tree): [7.11%, 63.70%]\n",
            "Intervalo de confiança (Random Forest): [4.69%, 64.38%]\n"
          ]
        }
      ],
      "source": [
        "arvore = DecisionTreeClassifier(max_depth = 3)\n",
        "random_forest = RandomForestClassifier(max_depth = 2)\n",
        "\n",
        "skf = StratifiedKFold(n_splits = 10, shuffle = True, random_state = 5)\n",
        "\n",
        "resultado_arvore = cross_val_score(arvore, x, y, cv = skf, scoring = 'f1')\n",
        "resultado_rf = cross_val_score(random_forest, x, y, cv = skf, scoring =  'f1')\n",
        "\n",
        "intervalo_conf(resultado_arvore, 'Decision Tree')\n",
        "intervalo_conf(resultado_rf, 'Random Forest')"
      ]
    },
    {
      "cell_type": "markdown",
      "metadata": {
        "id": "PffR585slFHS"
      },
      "source": [
        "### Desafio 4\n",
        "\n",
        "Avalie o desempenho dos modelos utilizando a validação cruzada (`cross_val_score`) com o método [`LeaveOneOut`](https://scikit-learn.org/stable/modules/generated/sklearn.model_selection.LeaveOneOut.html).\n",
        "\n",
        "O método LeaveOneOut vai gerar um modelo para cada uma das linhas da base de dados, portanto a lista de resultados terá taxa de acerto apenas de 0 ou 1 para cada modelo. Dessa forma, extraia apenas a média do resultado, sem utilizar o intervalo de confiança.\n"
      ]
    },
    {
      "cell_type": "code",
      "execution_count": 30,
      "metadata": {
        "id": "2Fu1i0l9T2F5"
      },
      "outputs": [],
      "source": [
        "from sklearn.model_selection import cross_val_score, LeaveOneOut"
      ]
    },
    {
      "cell_type": "code",
      "execution_count": 31,
      "metadata": {
        "id": "AZJHvz7aoRWW",
        "outputId": "8ff5b445-8e5d-40ff-deb9-8a6e94b81dea",
        "colab": {
          "base_uri": "https://localhost:8080/"
        }
      },
      "outputs": [
        {
          "output_type": "stream",
          "name": "stdout",
          "text": [
            "Acurácia média (Decision Tree): 69.16%\n",
            "Acurácia média (Random Forest):69.76%\n"
          ]
        }
      ],
      "source": [
        "arvore = DecisionTreeClassifier(max_depth = 3)\n",
        "random_forest = RandomForestClassifier(max_depth = 2)\n",
        "\n",
        "loo = LeaveOneOut()\n",
        "\n",
        "resultado_arvore = cross_val_score(arvore, x, y, cv = loo)\n",
        "resultado_rf = cross_val_score(random_forest, x, y, cv = loo)\n",
        "\n",
        "print(f'Acurácia média (Decision Tree): {resultado_arvore.mean()*100:.2f}%')\n",
        "print(f'Acurácia média (Random Forest):{resultado_rf.mean()*100:.2f}%')"
      ]
    },
    {
      "cell_type": "markdown",
      "metadata": {
        "id": "LkuY1LZDJnnE"
      },
      "source": [
        "# Aula 4"
      ]
    },
    {
      "cell_type": "markdown",
      "metadata": {
        "id": "8H-XGS58Jo97"
      },
      "source": [
        "### Desafio 1\n",
        "\n",
        "Verifique a proporção de dados da variável alvo do conjunto de dados de diabetes. Essa análise pode ser feita a partir da porcentagem de dados ou com a utilização de um gráfico de contagem para entender se há um desbalanceamento de dados."
      ]
    },
    {
      "cell_type": "code",
      "execution_count": 32,
      "metadata": {
        "id": "ymR1fC95T2l5",
        "outputId": "b5df40de-e863-40b5-d2b7-2d8a999a553c",
        "colab": {
          "base_uri": "https://localhost:8080/",
          "height": 178
        }
      },
      "outputs": [
        {
          "output_type": "execute_result",
          "data": {
            "text/plain": [
              "diabetes\n",
              "0    0.670051\n",
              "1    0.329949\n",
              "Name: proportion, dtype: float64"
            ],
            "text/html": [
              "<div>\n",
              "<style scoped>\n",
              "    .dataframe tbody tr th:only-of-type {\n",
              "        vertical-align: middle;\n",
              "    }\n",
              "\n",
              "    .dataframe tbody tr th {\n",
              "        vertical-align: top;\n",
              "    }\n",
              "\n",
              "    .dataframe thead th {\n",
              "        text-align: right;\n",
              "    }\n",
              "</style>\n",
              "<table border=\"1\" class=\"dataframe\">\n",
              "  <thead>\n",
              "    <tr style=\"text-align: right;\">\n",
              "      <th></th>\n",
              "      <th>proportion</th>\n",
              "    </tr>\n",
              "    <tr>\n",
              "      <th>diabetes</th>\n",
              "      <th></th>\n",
              "    </tr>\n",
              "  </thead>\n",
              "  <tbody>\n",
              "    <tr>\n",
              "      <th>0</th>\n",
              "      <td>0.670051</td>\n",
              "    </tr>\n",
              "    <tr>\n",
              "      <th>1</th>\n",
              "      <td>0.329949</td>\n",
              "    </tr>\n",
              "  </tbody>\n",
              "</table>\n",
              "</div><br><label><b>dtype:</b> float64</label>"
            ]
          },
          "metadata": {},
          "execution_count": 32
        }
      ],
      "source": [
        "dados['diabetes'].value_counts(normalize = True)"
      ]
    },
    {
      "cell_type": "code",
      "source": [
        "import seaborn as sns\n",
        "\n",
        "sns.countplot(dados, x = 'diabetes');"
      ],
      "metadata": {
        "id": "Zo0GC5QfbLtd",
        "outputId": "bda05e64-e219-45e7-a777-7975e3ea03c6",
        "colab": {
          "base_uri": "https://localhost:8080/",
          "height": 449
        }
      },
      "execution_count": 33,
      "outputs": [
        {
          "output_type": "display_data",
          "data": {
            "text/plain": [
              "<Figure size 640x480 with 1 Axes>"
            ],
            "image/png": "[encoded data removed]"
          },
          "metadata": {}
        }
      ]
    },
    {
      "cell_type": "markdown",
      "metadata": {
        "id": "OMJ-IW4NJr4M"
      },
      "source": [
        "### Desafio 2\n",
        "\n",
        "Utilize um [`pipeline`](https://imbalanced-learn.org/stable/references/generated/imblearn.pipeline.Pipeline.html) contendo ajuste do modelo e o balanceamento dos dados usando o oversampling com [`SMOTE`](https://imbalanced-learn.org/stable/references/generated/imblearn.over_sampling.SMOTE.html), obtendo a média do F1-Score de uma validação cruzada com `StratifiedKFold`."
      ]
    },
    {
      "cell_type": "code",
      "execution_count": 34,
      "metadata": {
        "id": "MXJSDAQUT3up"
      },
      "outputs": [],
      "source": [
        "from imblearn.pipeline import Pipeline as imbpipeline\n",
        "from imblearn.over_sampling import SMOTE"
      ]
    },
    {
      "cell_type": "code",
      "source": [
        "arvore = DecisionTreeClassifier(max_depth = 3)\n",
        "pipeline = imbpipeline([('oversample', SMOTE()), ('arvore', arvore)])\n",
        "skf = StratifiedKFold(n_splits = 10, shuffle = True, random_state = 5)\n",
        "resultado_arvore = cross_val_score(pipeline, x, y, cv = skf, scoring = 'f1')\n",
        "print(f'F1 (Decision Tree):{resultado_arvore.mean()*100:.2f}%')"
      ],
      "metadata": {
        "id": "RQfvSXGmbZDF",
        "outputId": "3f13a700-96a8-48e0-8dc7-5f3bf2b2a6d6",
        "colab": {
          "base_uri": "https://localhost:8080/"
        }
      },
      "execution_count": 37,
      "outputs": [
        {
          "output_type": "stream",
          "name": "stdout",
          "text": [
            "F1 (Decision Tree):61.09%\n"
          ]
        }
      ]
    },
    {
      "cell_type": "code",
      "source": [
        "random_forest = RandomForestClassifier(max_depth = 2)\n",
        "pipeline = imbpipeline([('oversample', SMOTE()), ('random_forest', random_forest)])\n",
        "skf = StratifiedKFold(n_splits = 10, shuffle = True, random_state = 5)\n",
        "resultado_rf = cross_val_score(pipeline, x, y, cv = skf, scoring = 'f1')\n",
        "print(f'F1 (Random Forest):{resultado_rf.mean()*100:.2f}%')"
      ],
      "metadata": {
        "id": "CtnBdE4-bZuR",
        "outputId": "1634ffb7-4909-4323-b6b6-826357abbbf8",
        "colab": {
          "base_uri": "https://localhost:8080/"
        }
      },
      "execution_count": 39,
      "outputs": [
        {
          "output_type": "stream",
          "name": "stdout",
          "text": [
            "F1 (Random Forest):64.12%\n"
          ]
        }
      ]
    },
    {
      "cell_type": "markdown",
      "metadata": {
        "id": "rSKJ6r9gJuq0"
      },
      "source": [
        "### Desafio 3\n",
        "\n",
        " Utilize um [`pipeline`](https://imbalanced-learn.org/stable/references/generated/imblearn.pipeline.Pipeline.html) contendo ajuste do modelo e o balanceamento dos dados usando o undersampling com [`Nearmiss`](https://imbalanced-learn.org/stable/references/generated/imblearn.over_sampling.SMOTE.html) na sua versão 3, obtendo a média do F1-Score de uma validação cruzada com `StratifiedKFold`."
      ]
    },
    {
      "cell_type": "code",
      "execution_count": 40,
      "metadata": {
        "id": "FA2DCsQbT5Go"
      },
      "outputs": [],
      "source": [
        "from imblearn.pipeline import Pipeline as imbpipeline\n",
        "from imblearn.under_sampling import NearMiss"
      ]
    },
    {
      "cell_type": "code",
      "source": [
        "arvore = DecisionTreeClassifier(max_depth = 3)\n",
        "pipeline = imbpipeline([('undersample', NearMiss(version = 3)), ('arvore', arvore)])\n",
        "skf = StratifiedKFold(n_splits = 10, shuffle = True, random_state = 5)\n",
        "resultado_arvore = cross_val_score(pipeline, x, y, cv = skf, scoring = 'f1')\n",
        "print(f'F1 (Decision Tree):{resultado_arvore.mean()*100:.2f}%')"
      ],
      "metadata": {
        "id": "QO1sC_3ib7KS",
        "outputId": "38f62755-4dbc-4070-f8d2-9f5e1e6d221d",
        "colab": {
          "base_uri": "https://localhost:8080/"
        }
      },
      "execution_count": 42,
      "outputs": [
        {
          "output_type": "stream",
          "name": "stdout",
          "text": [
            "F1 (Decision Tree):54.01%\n"
          ]
        }
      ]
    },
    {
      "cell_type": "code",
      "source": [
        "random_forest = RandomForestClassifier(max_depth = 2)\n",
        "pipeline = imbpipeline([('undersample', NearMiss(version = 3)), ('random_forest', random_forest)])\n",
        "skf = StratifiedKFold(n_splits = 10, shuffle = True, random_state = 5)\n",
        "resultado_rf = cross_val_score(pipeline, x, y, cv = skf, scoring = 'f1')\n",
        "print(f'F1 (Random Forest):{resultado_rf.mean()*100:.2f}%')"
      ],
      "metadata": {
        "id": "Mi333OKvb7h0",
        "outputId": "f9f04b1f-1557-416b-fa83-b539b4baac4c",
        "colab": {
          "base_uri": "https://localhost:8080/"
        }
      },
      "execution_count": 43,
      "outputs": [
        {
          "output_type": "stream",
          "name": "stdout",
          "text": [
            "F1 (Random Forest):60.34%\n"
          ]
        }
      ]
    },
    {
      "cell_type": "markdown",
      "metadata": {
        "id": "6ZpXGQyPJwNl"
      },
      "source": [
        "### Desafio 4\n",
        "\n",
        "Escolha o modelo que obteve o melhor desempenho ao comparar as estratégias de oversampling e undersampling e realize o teste do modelo nos dados de teste que foram separados no início dos desafios."
      ]
    },
    {
      "cell_type": "code",
      "execution_count": 44,
      "metadata": {
        "id": "x7N_pyEuT6dh",
        "outputId": "8b95a993-7189-420f-b68e-98b670957dc4",
        "colab": {
          "base_uri": "https://localhost:8080/",
          "height": 618
        }
      },
      "outputs": [
        {
          "output_type": "stream",
          "name": "stdout",
          "text": [
            "              precision    recall  f1-score   support\n",
            "\n",
            "           0       0.76      0.65      0.70        40\n",
            "           1       0.46      0.60      0.52        20\n",
            "\n",
            "    accuracy                           0.63        60\n",
            "   macro avg       0.61      0.62      0.61        60\n",
            "weighted avg       0.66      0.63      0.64        60\n",
            "\n"
          ]
        },
        {
          "output_type": "display_data",
          "data": {
            "text/plain": [
              "<Figure size 640x480 with 2 Axes>"
            ],
            "image/png": "[encoded data removed]"
          },
          "metadata": {}
        }
      ],
      "source": [
        "undersample = NearMiss(version = 3)\n",
        "x_balanceado, y_balanceado = undersample.fit_resample(x, y)\n",
        "\n",
        "modelo = RandomForestClassifier(max_depth = 2)\n",
        "modelo.fit(x_balanceado, y_balanceado)\n",
        "y_previsto = modelo.predict(x_teste)\n",
        "\n",
        "print(classification_report(y_teste, y_previsto))\n",
        "ConfusionMatrixDisplay.from_predictions(y_teste, y_previsto);"
      ]
    }
  ],
  "metadata": {
    "colab": {
      "provenance": [],
      "include_colab_link": true
    },
    "kernelspec": {
      "display_name": "Python 3",
      "name": "python3"
    },
    "language_info": {
      "codemirror_mode": {
        "name": "ipython",
        "version": 3
      },
      "file_extension": ".py",
      "mimetype": "text/x-python",
      "name": "python",
      "nbconvert_exporter": "python",
      "pygments_lexer": "ipython3",
      "version": "3.13.2"
    }
  },
  "nbformat": 4,
  "nbformat_minor": 0
}