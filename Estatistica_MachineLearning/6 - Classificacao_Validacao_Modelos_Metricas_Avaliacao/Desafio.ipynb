{
 "cells": [
  {
   "cell_type": "markdown",
   "metadata": {
    "id": "_kwAaQ36gLQ1"
   },
   "source": [
    "### Sobre o notebook\n",
    "\n",
    "Esse notebook contém diversos desafios envolvendo os aprendizados de cada aula. É um notebook construído com o enunciado de cada desafio e com espaço para construir e executar suas soluções. Se for necessário adicionar mais células de código para solucionar o desafio, fique à vontade para acrescentar."
   ]
  },
  {
   "cell_type": "markdown",
   "metadata": {
    "id": "fbQaJ7XHqd2p"
   },
   "source": [
    "# Aula 1"
   ]
  },
  {
   "cell_type": "markdown",
   "metadata": {
    "id": "XXpTDkQmqgGT"
   },
   "source": [
    "### Desafio 1\n",
    "\n",
    "Faça a leitura da base de dados de diabetes e realize a divisão dos dados em variáveis explicativas e variável alvo (x e y)."
   ]
  },
  {
   "cell_type": "code",
   "execution_count": 1,
   "metadata": {
    "id": "o-clr688LDl2"
   },
   "outputs": [],
   "source": [
    "import pandas as pd"
   ]
  },
  {
   "cell_type": "code",
   "execution_count": 2,
   "metadata": {},
   "outputs": [],
   "source": [
    "url = 'https://raw.githubusercontent.com/moises-rb/DS_ONE/refs/heads/main/Estatistica_MachineLearning/6%20-%20Classificacao_Validacao_Modelos_Metricas_Avaliacao/base_dados/diabetes.csv'"
   ]
  },
  {
   "cell_type": "code",
   "execution_count": 3,
   "metadata": {},
   "outputs": [
    {
     "data": {
      "application/vnd.microsoft.datawrangler.viewer.v0+json": {
       "columns": [
        {
         "name": "index",
         "rawType": "int64",
         "type": "integer"
        },
        {
         "name": "glicemia",
         "rawType": "int64",
         "type": "integer"
        },
        {
         "name": "pressao_sanguinea",
         "rawType": "int64",
         "type": "integer"
        },
        {
         "name": "dobra_cutane_triceps",
         "rawType": "int64",
         "type": "integer"
        },
        {
         "name": "insulina",
         "rawType": "float64",
         "type": "float"
        },
        {
         "name": "imc",
         "rawType": "float64",
         "type": "float"
        },
        {
         "name": "diabetes",
         "rawType": "int64",
         "type": "integer"
        }
       ],
       "ref": "db36c23b-7f98-4bf6-b9d0-73b058d75821",
       "rows": [
        [
         "0",
         "66",
         "23",
         "94",
         "28.1",
         "0.167",
         "0"
        ],
        [
         "1",
         "40",
         "35",
         "168",
         "43.1",
         "2.288",
         "1"
        ],
        [
         "2",
         "50",
         "32",
         "88",
         "31.0",
         "0.248",
         "1"
        ],
        [
         "3",
         "70",
         "45",
         "543",
         "30.5",
         "0.158",
         "1"
        ],
        [
         "4",
         "60",
         "23",
         "846",
         "30.1",
         "0.398",
         "1"
        ],
        [
         "5",
         "72",
         "19",
         "175",
         "25.8",
         "0.587",
         "1"
        ],
        [
         "6",
         "84",
         "47",
         "230",
         "45.8",
         "0.551",
         "1"
        ],
        [
         "7",
         "30",
         "38",
         "83",
         "43.3",
         "0.183",
         "0"
        ],
        [
         "8",
         "70",
         "30",
         "96",
         "34.6",
         "0.529",
         "1"
        ],
        [
         "9",
         "88",
         "41",
         "235",
         "39.3",
         "0.704",
         "0"
        ],
        [
         "10",
         "94",
         "33",
         "146",
         "36.6",
         "0.254",
         "1"
        ],
        [
         "11",
         "70",
         "26",
         "115",
         "31.1",
         "0.205",
         "1"
        ],
        [
         "12",
         "66",
         "15",
         "140",
         "23.2",
         "0.487",
         "0"
        ],
        [
         "13",
         "82",
         "19",
         "110",
         "22.2",
         "0.245",
         "0"
        ],
        [
         "14",
         "76",
         "36",
         "245",
         "31.6",
         "0.851",
         "1"
        ],
        [
         "15",
         "58",
         "11",
         "54",
         "24.8",
         "0.267",
         "0"
        ],
        [
         "16",
         "60",
         "33",
         "192",
         "24.0",
         "0.966",
         "0"
        ],
        [
         "17",
         "72",
         "47",
         "207",
         "37.1",
         "1.39",
         "1"
        ],
        [
         "18",
         "64",
         "25",
         "70",
         "34.0",
         "0.271",
         "0"
        ],
        [
         "19",
         "110",
         "24",
         "240",
         "45.4",
         "0.721",
         "1"
        ],
        [
         "20",
         "80",
         "11",
         "82",
         "19.4",
         "0.491",
         "0"
        ],
        [
         "21",
         "50",
         "15",
         "36",
         "24.2",
         "0.526",
         "0"
        ],
        [
         "22",
         "66",
         "21",
         "23",
         "24.4",
         "0.342",
         "0"
        ],
        [
         "23",
         "90",
         "34",
         "300",
         "33.7",
         "0.467",
         "1"
        ],
        [
         "24",
         "66",
         "42",
         "342",
         "34.7",
         "0.718",
         "0"
        ],
        [
         "25",
         "68",
         "39",
         "304",
         "37.7",
         "0.254",
         "1"
        ],
        [
         "26",
         "88",
         "60",
         "110",
         "46.8",
         "0.962",
         "0"
        ],
        [
         "27",
         "64",
         "41",
         "142",
         "41.5",
         "0.173",
         "0"
        ],
        [
         "28",
         "58",
         "34",
         "128",
         "25.4",
         "0.699",
         "0"
        ],
        [
         "29",
         "66",
         "13",
         "38",
         "19.6",
         "0.334",
         "0"
        ],
        [
         "30",
         "85",
         "27",
         "100",
         "28.9",
         "0.189",
         "0"
        ],
        [
         "31",
         "66",
         "20",
         "90",
         "32.9",
         "0.867",
         "1"
        ],
        [
         "32",
         "64",
         "35",
         "140",
         "28.6",
         "0.411",
         "0"
        ],
        [
         "33",
         "86",
         "20",
         "270",
         "35.1",
         "0.231",
         "0"
        ],
        [
         "34",
         "78",
         "26",
         "71",
         "29.3",
         "0.767",
         "0"
        ],
        [
         "35",
         "74",
         "29",
         "125",
         "32.4",
         "0.698",
         "0"
        ],
        [
         "36",
         "68",
         "25",
         "71",
         "38.5",
         "0.324",
         "0"
        ],
        [
         "37",
         "70",
         "32",
         "110",
         "37.1",
         "0.153",
         "1"
        ],
        [
         "38",
         "80",
         "15",
         "176",
         "32.0",
         "0.443",
         "0"
        ],
        [
         "39",
         "78",
         "40",
         "48",
         "46.7",
         "0.261",
         "0"
        ],
        [
         "40",
         "82",
         "18",
         "64",
         "24.7",
         "0.761",
         "0"
        ],
        [
         "41",
         "72",
         "27",
         "228",
         "33.9",
         "0.255",
         "0"
        ],
        [
         "42",
         "48",
         "18",
         "76",
         "20.4",
         "0.323",
         "0"
        ],
        [
         "43",
         "50",
         "30",
         "64",
         "28.7",
         "0.356",
         "0"
        ],
        [
         "44",
         "90",
         "51",
         "220",
         "49.7",
         "0.325",
         "1"
        ],
        [
         "45",
         "72",
         "18",
         "40",
         "26.6",
         "0.283",
         "0"
        ],
        [
         "46",
         "56",
         "29",
         "152",
         "28.7",
         "0.801",
         "0"
        ],
        [
         "47",
         "58",
         "28",
         "140",
         "29.5",
         "0.287",
         "0"
        ],
        [
         "48",
         "58",
         "31",
         "18",
         "34.3",
         "0.336",
         "0"
        ],
        [
         "49",
         "85",
         "25",
         "36",
         "37.4",
         "0.247",
         "1"
        ]
       ],
       "shape": {
        "columns": 6,
        "rows": 394
       }
      },
      "text/html": [
       "<div>\n",
       "<style scoped>\n",
       "    .dataframe tbody tr th:only-of-type {\n",
       "        vertical-align: middle;\n",
       "    }\n",
       "\n",
       "    .dataframe tbody tr th {\n",
       "        vertical-align: top;\n",
       "    }\n",
       "\n",
       "    .dataframe thead th {\n",
       "        text-align: right;\n",
       "    }\n",
       "</style>\n",
       "<table border=\"1\" class=\"dataframe\">\n",
       "  <thead>\n",
       "    <tr style=\"text-align: right;\">\n",
       "      <th></th>\n",
       "      <th>glicemia</th>\n",
       "      <th>pressao_sanguinea</th>\n",
       "      <th>dobra_cutane_triceps</th>\n",
       "      <th>insulina</th>\n",
       "      <th>imc</th>\n",
       "      <th>diabetes</th>\n",
       "    </tr>\n",
       "  </thead>\n",
       "  <tbody>\n",
       "    <tr>\n",
       "      <th>0</th>\n",
       "      <td>66</td>\n",
       "      <td>23</td>\n",
       "      <td>94</td>\n",
       "      <td>28.1</td>\n",
       "      <td>0.167</td>\n",
       "      <td>0</td>\n",
       "    </tr>\n",
       "    <tr>\n",
       "      <th>1</th>\n",
       "      <td>40</td>\n",
       "      <td>35</td>\n",
       "      <td>168</td>\n",
       "      <td>43.1</td>\n",
       "      <td>2.288</td>\n",
       "      <td>1</td>\n",
       "    </tr>\n",
       "    <tr>\n",
       "      <th>2</th>\n",
       "      <td>50</td>\n",
       "      <td>32</td>\n",
       "      <td>88</td>\n",
       "      <td>31.0</td>\n",
       "      <td>0.248</td>\n",
       "      <td>1</td>\n",
       "    </tr>\n",
       "    <tr>\n",
       "      <th>3</th>\n",
       "      <td>70</td>\n",
       "      <td>45</td>\n",
       "      <td>543</td>\n",
       "      <td>30.5</td>\n",
       "      <td>0.158</td>\n",
       "      <td>1</td>\n",
       "    </tr>\n",
       "    <tr>\n",
       "      <th>4</th>\n",
       "      <td>60</td>\n",
       "      <td>23</td>\n",
       "      <td>846</td>\n",
       "      <td>30.1</td>\n",
       "      <td>0.398</td>\n",
       "      <td>1</td>\n",
       "    </tr>\n",
       "    <tr>\n",
       "      <th>...</th>\n",
       "      <td>...</td>\n",
       "      <td>...</td>\n",
       "      <td>...</td>\n",
       "      <td>...</td>\n",
       "      <td>...</td>\n",
       "      <td>...</td>\n",
       "    </tr>\n",
       "    <tr>\n",
       "      <th>389</th>\n",
       "      <td>88</td>\n",
       "      <td>44</td>\n",
       "      <td>510</td>\n",
       "      <td>43.3</td>\n",
       "      <td>0.222</td>\n",
       "      <td>1</td>\n",
       "    </tr>\n",
       "    <tr>\n",
       "      <th>390</th>\n",
       "      <td>88</td>\n",
       "      <td>39</td>\n",
       "      <td>110</td>\n",
       "      <td>36.5</td>\n",
       "      <td>1.057</td>\n",
       "      <td>1</td>\n",
       "    </tr>\n",
       "    <tr>\n",
       "      <th>391</th>\n",
       "      <td>58</td>\n",
       "      <td>26</td>\n",
       "      <td>16</td>\n",
       "      <td>28.4</td>\n",
       "      <td>0.766</td>\n",
       "      <td>0</td>\n",
       "    </tr>\n",
       "    <tr>\n",
       "      <th>392</th>\n",
       "      <td>76</td>\n",
       "      <td>48</td>\n",
       "      <td>180</td>\n",
       "      <td>32.9</td>\n",
       "      <td>0.171</td>\n",
       "      <td>0</td>\n",
       "    </tr>\n",
       "    <tr>\n",
       "      <th>393</th>\n",
       "      <td>72</td>\n",
       "      <td>23</td>\n",
       "      <td>112</td>\n",
       "      <td>26.2</td>\n",
       "      <td>0.245</td>\n",
       "      <td>0</td>\n",
       "    </tr>\n",
       "  </tbody>\n",
       "</table>\n",
       "<p>394 rows × 6 columns</p>\n",
       "</div>"
      ],
      "text/plain": [
       "     glicemia  pressao_sanguinea  dobra_cutane_triceps  insulina    imc  \\\n",
       "0          66                 23                    94      28.1  0.167   \n",
       "1          40                 35                   168      43.1  2.288   \n",
       "2          50                 32                    88      31.0  0.248   \n",
       "3          70                 45                   543      30.5  0.158   \n",
       "4          60                 23                   846      30.1  0.398   \n",
       "..        ...                ...                   ...       ...    ...   \n",
       "389        88                 44                   510      43.3  0.222   \n",
       "390        88                 39                   110      36.5  1.057   \n",
       "391        58                 26                    16      28.4  0.766   \n",
       "392        76                 48                   180      32.9  0.171   \n",
       "393        72                 23                   112      26.2  0.245   \n",
       "\n",
       "     diabetes  \n",
       "0           0  \n",
       "1           1  \n",
       "2           1  \n",
       "3           1  \n",
       "4           1  \n",
       "..        ...  \n",
       "389         1  \n",
       "390         1  \n",
       "391         0  \n",
       "392         0  \n",
       "393         0  \n",
       "\n",
       "[394 rows x 6 columns]"
      ]
     },
     "execution_count": 3,
     "metadata": {},
     "output_type": "execute_result"
    }
   ],
   "source": [
    "dados = pd.read_csv(url)\n",
    "dados"
   ]
  },
  {
   "cell_type": "code",
   "execution_count": 4,
   "metadata": {},
   "outputs": [],
   "source": [
    "x = dados.drop('diabetes', axis=1)\n",
    "y = dados['diabetes']"
   ]
  },
  {
   "cell_type": "markdown",
   "metadata": {
    "id": "dn6U1p70qw7p"
   },
   "source": [
    "### Desafio 2\n",
    "\n",
    "Realize a divisão dos dados entre treino e teste."
   ]
  },
  {
   "cell_type": "code",
   "execution_count": 5,
   "metadata": {},
   "outputs": [],
   "source": [
    "from sklearn.model_selection import train_test_split"
   ]
  },
  {
   "cell_type": "code",
   "execution_count": 6,
   "metadata": {},
   "outputs": [],
   "source": [
    "x, x_teste, y, y_teste = train_test_split(x, y, test_size=0.15, random_state=5, stratify=y)\n",
    "x_treino, x_val, y_treino, y_val = train_test_split(x, y, random_state=5, stratify=y)"
   ]
  },
  {
   "cell_type": "markdown",
   "metadata": {
    "id": "IcmuQBIyxHc8"
   },
   "source": [
    "### Desafio 3\n",
    "\n",
    "Crie 2 modelos utilizando os algoritmos [DecisionTreeClassifier](https://scikit-learn.org/stable/modules/generated/sklearn.tree.DecisionTreeClassifier.html) e [RandomForestClassifer](https://scikit-learn.org/stable/modules/generated/sklearn.ensemble.RandomForestClassifier.html) e avalie a acurácia de treino e teste, escolhendo valores para o parâmetro `max_depth` para os modelos não se especializarem demais no padrão dos dados de treino."
   ]
  },
  {
   "cell_type": "code",
   "execution_count": 7,
   "metadata": {
    "id": "YPeQmyV1YhwA"
   },
   "outputs": [],
   "source": [
    "from sklearn.tree import DecisionTreeClassifier\n",
    "from sklearn.ensemble import RandomForestClassifier"
   ]
  },
  {
   "cell_type": "code",
   "execution_count": 8,
   "metadata": {},
   "outputs": [],
   "source": [
    "arvore = DecisionTreeClassifier(max_depth = 3)\n",
    "random_forest = RandomForestClassifier(max_depth = 2)"
   ]
  },
  {
   "cell_type": "markdown",
   "metadata": {},
   "source": [
    "Algoritmo [DecisionTreeClassifier](https://scikit-learn.org/stable/modules/generated/sklearn.tree.DecisionTreeClassifier.html)"
   ]
  },
  {
   "cell_type": "code",
   "execution_count": 9,
   "metadata": {},
   "outputs": [
    {
     "name": "stdout",
     "output_type": "stream",
     "text": [
      "Acurácia do treino: 76.40%\n",
      "Acurácia de teste: 63.10%\n"
     ]
    }
   ],
   "source": [
    "arvore.fit(x_treino, y_treino)\n",
    "print(f'Acurácia do treino: {arvore.score(x_treino, y_treino) * 100:.2f}%')\n",
    "print(f'Acurácia de teste: {arvore.score(x_val, y_val) * 100:.2f}%')"
   ]
  },
  {
   "cell_type": "markdown",
   "metadata": {},
   "source": [
    "Algoritmo [RandomForestClassifer](https://scikit-learn.org/stable/modules/generated/sklearn.ensemble.RandomForestClassifier.html) "
   ]
  },
  {
   "cell_type": "code",
   "execution_count": 10,
   "metadata": {},
   "outputs": [
    {
     "name": "stdout",
     "output_type": "stream",
     "text": [
      "Acurácia do treino: 76.40%\n",
      "Acurácia de teste: 67.86%\n"
     ]
    }
   ],
   "source": [
    "random_forest.fit(x_treino, y_treino)\n",
    "print(f'Acurácia do treino: {random_forest.score(x_treino, y_treino) * 100:.2f}%')\n",
    "print(f'Acurácia de teste: {random_forest.score(x_val, y_val) * 100:.2f}%')"
   ]
  },
  {
   "cell_type": "markdown",
   "metadata": {
    "id": "luUySRh5xNL1"
   },
   "source": [
    "### Desafio 4\n",
    "\n",
    "Construa uma matriz de confusão para cada um dos modelos para avaliar o desempenho das previsões."
   ]
  },
  {
   "cell_type": "code",
   "execution_count": 11,
   "metadata": {},
   "outputs": [],
   "source": [
    "from sklearn.metrics import ConfusionMatrixDisplay"
   ]
  },
  {
   "cell_type": "code",
   "execution_count": 12,
   "metadata": {},
   "outputs": [
    {
     "data": {
      "image/png": "[encoded data removed]",
      "text/plain": [
       "<Figure size 640x480 with 2 Axes>"
      ]
     },
     "metadata": {},
     "output_type": "display_data"
    }
   ],
   "source": [
    "previsao_arvore = arvore.predict(x_val)\n",
    "ConfusionMatrixDisplay.from_predictions(y_val, previsao_arvore);"
   ]
  },
  {
   "cell_type": "code",
   "execution_count": 13,
   "metadata": {},
   "outputs": [
    {
     "data": {
      "image/png": "[encoded data removed]",
      "text/plain": [
       "<Figure size 640x480 with 2 Axes>"
      ]
     },
     "metadata": {},
     "output_type": "display_data"
    }
   ],
   "source": [
    "previsao_rf = random_forest.predict(x_val)\n",
    "ConfusionMatrixDisplay.from_predictions(y_val, previsao_rf);"
   ]
  },
  {
   "cell_type": "markdown",
   "metadata": {},
   "source": []
  },
  {
   "cell_type": "markdown",
   "metadata": {
    "id": "dQtdWeLPZ2qI"
   },
   "source": [
    "# Aula 2"
   ]
  },
  {
   "cell_type": "markdown",
   "metadata": {
    "id": "j3gbWXPaZ6b_"
   },
   "source": [
    "### Desafio 1\n",
    "\n",
    "Extraia as métricas acurácia, recall, precisão e F1-Score dos modelos de classificação gerados no desafio da aula 1."
   ]
  },
  {
   "cell_type": "code",
   "execution_count": 14,
   "metadata": {
    "id": "b-TqlLAeaKNH"
   },
   "outputs": [],
   "source": [
    "from sklearn.metrics import accuracy_score, recall_score, precision_score, f1_score"
   ]
  },
  {
   "cell_type": "code",
   "execution_count": 15,
   "metadata": {},
   "outputs": [
    {
     "name": "stdout",
     "output_type": "stream",
     "text": [
      "Acurácia (Decision Tree): 63.10%\n",
      "Recall (Decision Tree): 17.86%\n",
      "Precisão (Decision Tree): 38.46%\n",
      "F1_Score (Decision Tree): 24.39%\n"
     ]
    }
   ],
   "source": [
    "previsao_arvore = arvore.predict(x_val)\n",
    "\n",
    "print(f'Acurácia (Decision Tree): {accuracy_score(y_val, previsao_arvore)* 100:.2f}%')\n",
    "print(f'Recall (Decision Tree): {recall_score(y_val, previsao_arvore)* 100:.2f}%')\n",
    "print(f'Precisão (Decision Tree): {precision_score(y_val, previsao_arvore)* 100:.2f}%')\n",
    "print(f'F1_Score (Decision Tree): {f1_score(y_val, previsao_arvore)* 100:.2f}%')"
   ]
  },
  {
   "cell_type": "code",
   "execution_count": 16,
   "metadata": {},
   "outputs": [
    {
     "name": "stdout",
     "output_type": "stream",
     "text": [
      "Acurácia (Random Forest): 67.86%\n",
      "Recall (Random Forest): 14.29%\n",
      "Precisão (Random Forest): 57.14%\n",
      "F1_Score (Random Forest): 22.86%\n"
     ]
    }
   ],
   "source": [
    "previsao_rf = random_forest.predict(x_val)\n",
    "\n",
    "print(f'Acurácia (Random Forest): {accuracy_score(y_val, previsao_rf)* 100:.2f}%')\n",
    "print(f'Recall (Random Forest): {recall_score(y_val, previsao_rf)* 100:.2f}%')\n",
    "print(f'Precisão (Random Forest): {precision_score(y_val, previsao_rf)* 100:.2f}%')\n",
    "print(f'F1_Score (Random Forest): {f1_score(y_val, previsao_rf)* 100:.2f}%')"
   ]
  },
  {
   "cell_type": "markdown",
   "metadata": {
    "id": "Iy6nX8iQZ_JJ"
   },
   "source": [
    "### Desafio 2\n",
    "\n",
    "Obtenha a curva ROC e a métrica AUC dos modelos de classificação gerados no desafio da aula 1, comparando as curvas no mesmo gráfico.\n",
    "\n",
    "*Como uma dica, vasculhe a documentação do `Scikit-learn` a partir deste [link](https://scikit-learn.org/stable/auto_examples/release_highlights/plot_release_highlights_0_22_0.html#new-plotting-api) e verifique uma forma de apresentar os resultados das curvas no mesmo gráfico usando o matplotlib*"
   ]
  },
  {
   "cell_type": "code",
   "execution_count": 17,
   "metadata": {
    "id": "CBfg1CYkdUFr"
   },
   "outputs": [],
   "source": [
    "from sklearn.metrics import RocCurveDisplay, roc_auc_score"
   ]
  },
  {
   "cell_type": "code",
   "execution_count": 18,
   "metadata": {},
   "outputs": [
    {
     "data": {
      "image/png": "[encoded data removed]",
      "text/plain": [
       "<Figure size 640x480 with 1 Axes>"
      ]
     },
     "metadata": {},
     "output_type": "display_data"
    }
   ],
   "source": [
    "curva_roc = RocCurveDisplay.from_predictions(y_val, previsao_arvore, name = 'Decision Tree')\n",
    "curva_roc = RocCurveDisplay.from_predictions(y_val, previsao_rf, name = 'Random Forest', ax = curva_roc.ax_)"
   ]
  },
  {
   "cell_type": "code",
   "execution_count": 19,
   "metadata": {},
   "outputs": [
    {
     "name": "stdout",
     "output_type": "stream",
     "text": [
      "AUC (Decision Tree): 51.79%\n",
      "AUC (Random Forest): 54.46%\n"
     ]
    }
   ],
   "source": [
    "print(f'AUC (Decision Tree): {roc_auc_score(y_val, previsao_arvore)* 100:.2f}%')\n",
    "print(f'AUC (Random Forest): {roc_auc_score(y_val, previsao_rf)* 100:.2f}%')"
   ]
  },
  {
   "cell_type": "markdown",
   "metadata": {
    "id": "MtAISYmrZ_VR"
   },
   "source": [
    "### Desafio 3\n",
    "\n",
    "Obtenha a curva precisão x recall e a métrica AP dos modelos de classificação gerados no desafio da aula 1, comparando as curvas no mesmo gráfico.\n",
    "\n",
    "*Como uma dica, vasculhe a documentação do `Scikit-learn` a partir deste [link](https://scikit-learn.org/stable/auto_examples/release_highlights/plot_release_highlights_0_22_0.html#new-plotting-api) e verifique uma forma de apresentar os resultados das curvas no mesmo gráfico usando o matplotlib*"
   ]
  },
  {
   "cell_type": "code",
   "execution_count": 20,
   "metadata": {
    "id": "n5UUgmk4af0I"
   },
   "outputs": [],
   "source": [
    "from sklearn.metrics import PrecisionRecallDisplay, average_precision_score"
   ]
  },
  {
   "cell_type": "code",
   "execution_count": 21,
   "metadata": {},
   "outputs": [
    {
     "data": {
      "image/png": "[encoded data removed]",
      "text/plain": [
       "<Figure size 640x480 with 1 Axes>"
      ]
     },
     "metadata": {},
     "output_type": "display_data"
    }
   ],
   "source": [
    "curva_precision_recall = PrecisionRecallDisplay.from_predictions(y_val, previsao_arvore, name = 'Decision Tree')\n",
    "curva_precision_recall = PrecisionRecallDisplay.from_predictions(y_val, previsao_rf, name = 'Random Forest', ax = curva_precision_recall.ax_) "
   ]
  },
  {
   "cell_type": "code",
   "execution_count": 22,
   "metadata": {},
   "outputs": [
    {
     "name": "stdout",
     "output_type": "stream",
     "text": [
      "AP (Decision Tree): 34.25%\n",
      "AP (Random Forest): 36.73%\n"
     ]
    }
   ],
   "source": [
    "print(f'AP (Decision Tree): {average_precision_score(y_val, previsao_arvore)*100:.2f}%')\n",
    "print(f'AP (Random Forest): {average_precision_score(y_val, previsao_rf)*100:.2f}%')"
   ]
  },
  {
   "cell_type": "markdown",
   "metadata": {
    "id": "QC-mYuowZ_YO"
   },
   "source": [
    "### Desafio 4\n",
    "\n",
    "Gere os relatórios de métricas dos modelos de classificação gerados no desafio da aula 1."
   ]
  },
  {
   "cell_type": "code",
   "execution_count": 23,
   "metadata": {
    "id": "AZIfQPpJZ3rG"
   },
   "outputs": [],
   "source": [
    "from sklearn.metrics import classification_report"
   ]
  },
  {
   "cell_type": "code",
   "execution_count": 24,
   "metadata": {},
   "outputs": [
    {
     "name": "stdout",
     "output_type": "stream",
     "text": [
      "Decision Tree\n",
      "              precision    recall  f1-score   support\n",
      "\n",
      "           0       0.68      0.86      0.76        56\n",
      "           1       0.38      0.18      0.24        28\n",
      "\n",
      "    accuracy                           0.63        84\n",
      "   macro avg       0.53      0.52      0.50        84\n",
      "weighted avg       0.58      0.63      0.59        84\n",
      "\n",
      "Random Forest\n",
      "              precision    recall  f1-score   support\n",
      "\n",
      "           0       0.69      0.95      0.80        56\n",
      "           1       0.57      0.14      0.23        28\n",
      "\n",
      "    accuracy                           0.68        84\n",
      "   macro avg       0.63      0.54      0.51        84\n",
      "weighted avg       0.65      0.68      0.61        84\n",
      "\n"
     ]
    }
   ],
   "source": [
    "print('Decision Tree')\n",
    "print(classification_report(y_val, previsao_arvore))\n",
    "print('Random Forest')\n",
    "print(classification_report(y_val, previsao_rf))"
   ]
  },
  {
   "cell_type": "markdown",
   "metadata": {
    "id": "1uD6CKpmk-ud"
   },
   "source": [
    "# Aula 3"
   ]
  },
  {
   "cell_type": "markdown",
   "metadata": {
    "id": "_ksJQ1Ca9Alx"
   },
   "source": [
    "### Desafio 1\n",
    "\n",
    "Crie uma função para calcular o intervalo de confiança dos resultados de uma validação cruzada com 2 desvios padrão. A função precisa ter um parâmetro para receber uma lista com os desempenhos da validação cruzada e outro para apresentar o nome do modelo utilizado na validação cruzada. Exemplo de retorno da função:\n",
    "\n",
    "> Intervalo de confiança (\"nome do modelo\"): [\"valor mínimo do intervalo\", \"valor máximo do intervalo\"]\n",
    "\n"
   ]
  },
  {
   "cell_type": "code",
   "execution_count": 30,
   "metadata": {
    "id": "Bg7Uh6QyTyB5"
   },
   "outputs": [],
   "source": [
    "def intervalo_conf(resultados, nome_modelo):\n",
    "    media = resultados.mean()\n",
    "    desvio_padrao = resultados.std()\n",
    "    print(f'Intervalo de confiança ({nome_modelo}): [{(media - 2*desvio_padrao)*100:.2f}%, {min(media + 2*desvio_padrao, 1)*100:.2f}%]')"
   ]
  },
  {
   "cell_type": "markdown",
   "metadata": {
    "id": "aA2RAJvGlCM1"
   },
   "source": [
    "### Desafio 2\n",
    "\n",
    "Avalie o desempenho dos modelos com um intervalo de confiança utilizando a validação cruzada com o método [`KFold`](https://scikit-learn.org/stable/modules/generated/sklearn.model_selection.KFold.html), usando 10 partes e embaralhando os dados antes da separação. Use o método [`cross_val_score`](https://scikit-learn.org/stable/modules/generated/sklearn.model_selection.cross_val_score.html) que não retorna o tempo de execução, apenas as métricas."
   ]
  },
  {
   "cell_type": "code",
   "execution_count": 28,
   "metadata": {
    "id": "1jp9GpFwnR3i"
   },
   "outputs": [],
   "source": [
    "from sklearn.model_selection import cross_val_score, KFold"
   ]
  },
  {
   "cell_type": "code",
   "execution_count": 31,
   "metadata": {},
   "outputs": [
    {
     "name": "stdout",
     "output_type": "stream",
     "text": [
      "Intervalo de confiança (Decision Tree): [49.81%, 87.18%]\n",
      "Intervalo de confiança (Random Forest): [48.39%, 87.51%]\n"
     ]
    }
   ],
   "source": [
    "arvore = DecisionTreeClassifier(max_depth = 3)\n",
    "random_forest = RandomForestClassifier(max_depth = 2)\n",
    "\n",
    "kf = KFold(n_splits = 10, shuffle = True, random_state = 5)\n",
    "\n",
    "resultado_arvore = cross_val_score(arvore, x, y, cv = kf)\n",
    "resultado_rf = cross_val_score(random_forest, x, y, cv = kf)\n",
    "\n",
    "intervalo_conf(resultado_arvore, 'Decision Tree')\n",
    "intervalo_conf(resultado_rf, 'Random Forest')"
   ]
  },
  {
   "cell_type": "markdown",
   "metadata": {
    "id": "FXHAOmL4lFBp"
   },
   "source": [
    "### Desafio 3\n",
    "\n",
    "Avalie o desempenho dos modelos com um intervalo de confiança utilizando a validação cruzada (`cross_val_score`) com o método [`StratifiedKFold`](https://scikit-learn.org/stable/modules/generated/sklearn.model_selection.StratifiedKFold.html#sklearn.model_selection.StratifiedKFold), usando 10 partes e embaralhando os dados antes da separação e avaliando a métrica F1-Score."
   ]
  },
  {
   "cell_type": "code",
   "execution_count": 32,
   "metadata": {
    "id": "QeAunVFjnSOi"
   },
   "outputs": [],
   "source": [
    "from sklearn.model_selection import cross_val_score, StratifiedKFold"
   ]
  },
  {
   "cell_type": "code",
   "execution_count": 33,
   "metadata": {},
   "outputs": [
    {
     "name": "stdout",
     "output_type": "stream",
     "text": [
      "Intervalo de confiança (Decision Tree): [7.11%, 63.70%]\n",
      "Intervalo de confiança (Random Forest): [3.27%, 62.71%]\n"
     ]
    }
   ],
   "source": [
    "arvore = DecisionTreeClassifier(max_depth = 3)\n",
    "random_forest = RandomForestClassifier(max_depth = 2)\n",
    "\n",
    "skf = StratifiedKFold(n_splits = 10, shuffle = True, random_state = 5)\n",
    "\n",
    "resultado_arvore = cross_val_score(arvore, x, y, cv = skf, scoring = 'f1')\n",
    "resultado_rf = cross_val_score(random_forest, x, y, cv = skf, scoring =  'f1')\n",
    "\n",
    "intervalo_conf(resultado_arvore, 'Decision Tree')\n",
    "intervalo_conf(resultado_rf, 'Random Forest') "
   ]
  },
  {
   "cell_type": "markdown",
   "metadata": {
    "id": "PffR585slFHS"
   },
   "source": [
    "### Desafio 4\n",
    "\n",
    "Avalie o desempenho dos modelos utilizando a validação cruzada (`cross_val_score`) com o método [`LeaveOneOut`](https://scikit-learn.org/stable/modules/generated/sklearn.model_selection.LeaveOneOut.html).\n",
    "\n",
    "O método LeaveOneOut vai gerar um modelo para cada uma das linhas da base de dados, portanto a lista de resultados terá taxa de acerto apenas de 0 ou 1 para cada modelo. Dessa forma, extraia apenas a média do resultado, sem utilizar o intervalo de confiança.\n"
   ]
  },
  {
   "cell_type": "code",
   "execution_count": 34,
   "metadata": {
    "id": "2Fu1i0l9T2F5"
   },
   "outputs": [],
   "source": [
    "from sklearn.model_selection import cross_val_score, LeaveOneOut"
   ]
  },
  {
   "cell_type": "code",
   "execution_count": 36,
   "metadata": {},
   "outputs": [
    {
     "name": "stdout",
     "output_type": "stream",
     "text": [
      "Acurácia média (Decision Tree): 69.16%\n",
      "Acurácia média (Random Forest):68.86%\n"
     ]
    }
   ],
   "source": [
    "arvore = DecisionTreeClassifier(max_depth = 3)\n",
    "random_forest = RandomForestClassifier(max_depth = 2)\n",
    "\n",
    "loo = LeaveOneOut()\n",
    "\n",
    "resultado_arvore = cross_val_score(arvore, x, y, cv = loo)\n",
    "resultado_rf = cross_val_score(random_forest, x, y, cv = loo)\n",
    "\n",
    "print(f'Acurácia média (Decision Tree): {resultado_arvore.mean()*100:.2f}%')\n",
    "print(f'Acurácia média (Random Forest):{resultado_rf.mean()*100:.2f}%') "
   ]
  },
  {
   "cell_type": "markdown",
   "metadata": {
    "id": "LkuY1LZDJnnE"
   },
   "source": [
    "# Aula 4"
   ]
  },
  {
   "cell_type": "markdown",
   "metadata": {
    "id": "8H-XGS58Jo97"
   },
   "source": [
    "### Desafio 1\n",
    "\n",
    "Verifique a proporção de dados da variável alvo do conjunto de dados de diabetes. Essa análise pode ser feita a partir da porcentagem de dados ou com a utilização de um gráfico de contagem para entender se há um desbalanceamento de dados."
   ]
  },
  {
   "cell_type": "code",
   "execution_count": null,
   "metadata": {
    "id": "ymR1fC95T2l5"
   },
   "outputs": [],
   "source": []
  },
  {
   "cell_type": "markdown",
   "metadata": {
    "id": "OMJ-IW4NJr4M"
   },
   "source": [
    "### Desafio 2\n",
    "\n",
    "Utilize um [`pipeline`](https://imbalanced-learn.org/stable/references/generated/imblearn.pipeline.Pipeline.html) contendo ajuste do modelo e o balanceamento dos dados usando o oversampling com [`SMOTE`](https://imbalanced-learn.org/stable/references/generated/imblearn.over_sampling.SMOTE.html), obtendo a média do F1-Score de uma validação cruzada com `StratifiedKFold`."
   ]
  },
  {
   "cell_type": "code",
   "execution_count": null,
   "metadata": {
    "id": "MXJSDAQUT3up"
   },
   "outputs": [],
   "source": []
  },
  {
   "cell_type": "markdown",
   "metadata": {
    "id": "rSKJ6r9gJuq0"
   },
   "source": [
    "### Desafio 3\n",
    "\n",
    " Utilize um [`pipeline`](https://imbalanced-learn.org/stable/references/generated/imblearn.pipeline.Pipeline.html) contendo ajuste do modelo e o balanceamento dos dados usando o undersampling com [`Nearmiss`](https://imbalanced-learn.org/stable/references/generated/imblearn.over_sampling.SMOTE.html) na sua versão 3, obtendo a média do F1-Score de uma validação cruzada com `StratifiedKFold`."
   ]
  },
  {
   "cell_type": "code",
   "execution_count": null,
   "metadata": {
    "id": "FA2DCsQbT5Go"
   },
   "outputs": [],
   "source": []
  },
  {
   "cell_type": "markdown",
   "metadata": {
    "id": "6ZpXGQyPJwNl"
   },
   "source": [
    "### Desafio 4\n",
    "\n",
    "Escolha o modelo que obteve o melhor desempenho ao comparar as estratégias de oversampling e undersampling e realize o teste do modelo nos dados de teste que foram separados no início dos desafios."
   ]
  },
  {
   "cell_type": "code",
   "execution_count": null,
   "metadata": {
    "id": "x7N_pyEuT6dh"
   },
   "outputs": [],
   "source": []
  }
 ],
 "metadata": {
  "colab": {
   "authorship_tag": "ABX9TyMXnjQVNjaMipB0qKngZLrs",
   "provenance": []
  },
  "kernelspec": {
   "display_name": "Python 3",
   "name": "python3"
  },
  "language_info": {
   "codemirror_mode": {
    "name": "ipython",
    "version": 3
   },
   "file_extension": ".py",
   "mimetype": "text/x-python",
   "name": "python",
   "nbconvert_exporter": "python",
   "pygments_lexer": "ipython3",
   "version": "3.13.2"
  }
 },
 "nbformat": 4,
 "nbformat_minor": 0
}
